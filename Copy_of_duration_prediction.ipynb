{
  "cells": [
    {
      "cell_type": "code",
      "execution_count": null,
      "id": "b2bd82d7",
      "metadata": {
        "id": "b2bd82d7",
        "outputId": "69755dfe-0fe1-4b2b-cd6f-d4e3be2de9db"
      },
      "outputs": [
        {
          "name": "stdout",
          "output_type": "stream",
          "text": [
            "Python 3.9.7\r\n"
          ]
        }
      ],
      "source": [
        "!python -V"
      ]
    },
    {
      "cell_type": "code",
      "source": [
        "from google.colab import drive\n",
        "drive.mount(\"/content/gdrive\")"
      ],
      "metadata": {
        "id": "6MCfjTypsINI"
      },
      "id": "6MCfjTypsINI",
      "execution_count": null,
      "outputs": []
    },
    {
      "cell_type": "code",
      "source": [
        "%cd gdrive/My Drive/"
      ],
      "metadata": {
        "id": "1xiVAP29tB_3",
        "outputId": "400aa9cd-2fe3-4f74-a826-6c3dc1e4bf1d",
        "colab": {
          "base_uri": "https://localhost:8080/"
        }
      },
      "id": "1xiVAP29tB_3",
      "execution_count": null,
      "outputs": [
        {
          "output_type": "stream",
          "name": "stdout",
          "text": [
            "[Errno 2] No such file or directory: 'gdrive/My Drive/'\n",
            "/content\n"
          ]
        }
      ]
    },
    {
      "cell_type": "code",
      "source": [
        "! git clone https://github.com/DataTalksClub/mlops-zoomcamp"
      ],
      "metadata": {
        "id": "PmC0hQ-AtGq1",
        "outputId": "3a4a1b12-4712-4d38-bf0d-b418e69667c4",
        "colab": {
          "base_uri": "https://localhost:8080/"
        }
      },
      "id": "PmC0hQ-AtGq1",
      "execution_count": null,
      "outputs": [
        {
          "output_type": "stream",
          "name": "stdout",
          "text": [
            "Cloning into 'mlops-zoomcamp'...\n",
            "remote: Enumerating objects: 1825, done.\u001b[K\n",
            "remote: Counting objects: 100% (130/130), done.\u001b[K\n",
            "remote: Compressing objects: 100% (80/80), done.\u001b[K\n",
            "remote: Total 1825 (delta 47), reused 99 (delta 42), pack-reused 1695\u001b[K\n",
            "Receiving objects: 100% (1825/1825), 3.93 MiB | 12.67 MiB/s, done.\n",
            "Resolving deltas: 100% (931/931), done.\n"
          ]
        }
      ]
    },
    {
      "cell_type": "code",
      "source": [
        "!wget https://d37ci6vzurychx.cloudfront.net/trip-data/yellow_tripdata_2022-01.parquet"
      ],
      "metadata": {
        "id": "YsXU_B7vtPq2",
        "outputId": "1d2a20cc-4652-4a07-c81a-4f2ddea4687d",
        "colab": {
          "base_uri": "https://localhost:8080/"
        }
      },
      "id": "YsXU_B7vtPq2",
      "execution_count": null,
      "outputs": [
        {
          "output_type": "stream",
          "name": "stdout",
          "text": [
            "--2023-05-23 17:46:41--  https://d37ci6vzurychx.cloudfront.net/trip-data/yellow_tripdata_2022-01.parquet\n",
            "Resolving d37ci6vzurychx.cloudfront.net (d37ci6vzurychx.cloudfront.net)... 65.8.245.51, 65.8.245.50, 65.8.245.178, ...\n",
            "Connecting to d37ci6vzurychx.cloudfront.net (d37ci6vzurychx.cloudfront.net)|65.8.245.51|:443... connected.\n",
            "HTTP request sent, awaiting response... 200 OK\n",
            "Length: 38139949 (36M) [application/x-www-form-urlencoded]\n",
            "Saving to: ‘yellow_tripdata_2022-01.parquet’\n",
            "\n",
            "yellow_tripdata_202 100%[===================>]  36.37M  69.5MB/s    in 0.5s    \n",
            "\n",
            "2023-05-23 17:46:42 (69.5 MB/s) - ‘yellow_tripdata_2022-01.parquet’ saved [38139949/38139949]\n",
            "\n"
          ]
        }
      ]
    },
    {
      "cell_type": "code",
      "source": [
        "!wget https://d37ci6vzurychx.cloudfront.net/trip-data/yellow_tripdata_2022-02.parquet"
      ],
      "metadata": {
        "id": "1DT2ffQDthpB",
        "outputId": "c7043ae6-a8f7-4808-a023-1b83ecb9e190",
        "colab": {
          "base_uri": "https://localhost:8080/"
        }
      },
      "id": "1DT2ffQDthpB",
      "execution_count": null,
      "outputs": [
        {
          "output_type": "stream",
          "name": "stdout",
          "text": [
            "--2023-05-23 17:47:31--  https://d37ci6vzurychx.cloudfront.net/trip-data/yellow_tripdata_2022-02.parquet\n",
            "Resolving d37ci6vzurychx.cloudfront.net (d37ci6vzurychx.cloudfront.net)... 65.8.245.171, 65.8.245.178, 65.8.245.50, ...\n",
            "Connecting to d37ci6vzurychx.cloudfront.net (d37ci6vzurychx.cloudfront.net)|65.8.245.171|:443... connected.\n",
            "HTTP request sent, awaiting response... 200 OK\n",
            "Length: 45616512 (44M) [application/x-www-form-urlencoded]\n",
            "Saving to: ‘yellow_tripdata_2022-02.parquet’\n",
            "\n",
            "yellow_tripdata_202 100%[===================>]  43.50M  68.4MB/s    in 0.6s    \n",
            "\n",
            "2023-05-23 17:47:32 (68.4 MB/s) - ‘yellow_tripdata_2022-02.parquet’ saved [45616512/45616512]\n",
            "\n"
          ]
        }
      ]
    },
    {
      "cell_type": "code",
      "execution_count": null,
      "id": "41062d8a",
      "metadata": {
        "id": "41062d8a"
      },
      "outputs": [],
      "source": [
        "import pandas as pd"
      ]
    },
    {
      "cell_type": "code",
      "execution_count": null,
      "id": "c984c564",
      "metadata": {
        "id": "c984c564"
      },
      "outputs": [],
      "source": [
        "import pickle"
      ]
    },
    {
      "cell_type": "code",
      "execution_count": null,
      "id": "4add538c",
      "metadata": {
        "id": "4add538c"
      },
      "outputs": [],
      "source": [
        "import seaborn as sns\n",
        "import matplotlib.pyplot as plt"
      ]
    },
    {
      "cell_type": "code",
      "execution_count": null,
      "id": "8b135c2b",
      "metadata": {
        "id": "8b135c2b"
      },
      "outputs": [],
      "source": [
        "from sklearn.feature_extraction import DictVectorizer\n",
        "from sklearn.linear_model import LinearRegression\n",
        "from sklearn.linear_model import Lasso\n",
        "from sklearn.linear_model import Ridge\n",
        "\n",
        "from sklearn.metrics import mean_squared_error"
      ]
    },
    {
      "cell_type": "code",
      "source": [
        "df = pd.read_parquet('yellow_tripdata_2022-01.parquet')\n",
        "df.columns.values\n",
        "initial_count = len(df)"
      ],
      "metadata": {
        "id": "J74D8A8Au4H4"
      },
      "id": "J74D8A8Au4H4",
      "execution_count": null,
      "outputs": []
    },
    {
      "cell_type": "code",
      "execution_count": null,
      "id": "8e013caf",
      "metadata": {
        "id": "8e013caf"
      },
      "outputs": [],
      "source": [
        "df = pd.read_parquet('yellow_tripdata_2022-01.parquet')\n",
        "df_val = pd.read_parquet('yellow_tripdata_2022-02.parquet')\n",
        "\n",
        "df['duration'] = df.tpep_dropoff_datetime - df.tpep_pickup_datetime\n",
        "df.duration = df.duration.apply(lambda td: td.total_seconds() / 60)\n",
        "\n",
        "# df = df[(df.duration >= 1) & (df.duration <= 60)]\n",
        "\n",
        "categorical = ['PULocationID', 'DOLocationID']\n",
        "numerical = ['trip_distance']\n",
        "\n",
        "df[categorical] = df[categorical].astype(str)"
      ]
    },
    {
      "cell_type": "code",
      "source": [
        "len(list(df.columns.values))"
      ],
      "metadata": {
        "id": "7Dwy94JxWyV_",
        "outputId": "a5a917b9-ef33-4295-91b0-ed16964038d0",
        "colab": {
          "base_uri": "https://localhost:8080/"
        }
      },
      "id": "7Dwy94JxWyV_",
      "execution_count": null,
      "outputs": [
        {
          "output_type": "execute_result",
          "data": {
            "text/plain": [
              "20"
            ]
          },
          "metadata": {},
          "execution_count": 120
        }
      ]
    },
    {
      "cell_type": "code",
      "source": [
        "df['duration'].std()"
      ],
      "metadata": {
        "id": "BEvi9_2zwog7",
        "outputId": "b1f43094-c5ee-4dd0-d763-d3d7877dddbe",
        "colab": {
          "base_uri": "https://localhost:8080/"
        }
      },
      "id": "BEvi9_2zwog7",
      "execution_count": null,
      "outputs": [
        {
          "output_type": "execute_result",
          "data": {
            "text/plain": [
              "46.44530513776802"
            ]
          },
          "metadata": {},
          "execution_count": 106
        }
      ]
    },
    {
      "cell_type": "code",
      "source": [
        "df_val = pd.read_parquet('yellow_tripdata_2022-02.parquet')\n",
        "\n",
        "df_val['duration'] = df_val.tpep_dropoff_datetime - df_val.tpep_pickup_datetime\n",
        "df_val.duration = df_val.duration.apply(lambda td: td.total_seconds() / 60)\n",
        "\n",
        "df_val = df_val[(df_val.duration >= 1) & (df_val.duration <= 60)]\n",
        "\n",
        "categorical = ['PULocationID', 'DOLocationID']\n",
        "numerical = ['trip_distance']\n",
        "\n",
        "df_val[categorical] = df_val[categorical].astype(str)"
      ],
      "metadata": {
        "id": "W1kPGsxDTxzM"
      },
      "id": "W1kPGsxDTxzM",
      "execution_count": null,
      "outputs": []
    },
    {
      "cell_type": "code",
      "source": [
        "df_val['duration'].std()"
      ],
      "metadata": {
        "id": "l0K8R4d-UANP",
        "outputId": "21b35d93-43b0-499f-ee5a-23c058656b89",
        "colab": {
          "base_uri": "https://localhost:8080/"
        }
      },
      "id": "l0K8R4d-UANP",
      "execution_count": null,
      "outputs": [
        {
          "output_type": "execute_result",
          "data": {
            "text/plain": [
              "9.6430980172662"
            ]
          },
          "metadata": {},
          "execution_count": 108
        }
      ]
    },
    {
      "cell_type": "code",
      "source": [
        "df = df[(df.duration >= 1) & (df.duration <= 60)]\n",
        "df\n",
        "\n",
        "remaining_count = len(df)\n",
        "\n",
        "percentage_remaining = (remaining_count / initial_count) * 100\n",
        "percentage_remaining"
      ],
      "metadata": {
        "id": "21F8rYQF0OEA",
        "outputId": "ea7bc0e2-9b5a-44e9-cffa-3e0da071a25c",
        "colab": {
          "base_uri": "https://localhost:8080/"
        }
      },
      "id": "21F8rYQF0OEA",
      "execution_count": null,
      "outputs": [
        {
          "output_type": "execute_result",
          "data": {
            "text/plain": [
              "98.27547930522405"
            ]
          },
          "metadata": {},
          "execution_count": 109
        }
      ]
    },
    {
      "cell_type": "code",
      "source": [
        "df[categorical].dtypes"
      ],
      "metadata": {
        "id": "2KtsJyfYIrLF",
        "outputId": "0c3b8c99-ab17-439a-dc8c-29b7add7d741",
        "colab": {
          "base_uri": "https://localhost:8080/"
        }
      },
      "id": "2KtsJyfYIrLF",
      "execution_count": null,
      "outputs": [
        {
          "output_type": "execute_result",
          "data": {
            "text/plain": [
              "PULocationID    object\n",
              "DOLocationID    object\n",
              "dtype: object"
            ]
          },
          "metadata": {},
          "execution_count": 110
        }
      ]
    },
    {
      "cell_type": "code",
      "execution_count": null,
      "id": "116ff0cc",
      "metadata": {
        "id": "116ff0cc",
        "outputId": "52df38eb-4f3b-47be-eef0-f012d3ab2314",
        "colab": {
          "base_uri": "https://localhost:8080/"
        }
      },
      "outputs": [
        {
          "output_type": "execute_result",
          "data": {
            "text/plain": [
              "7.001496179427095"
            ]
          },
          "metadata": {},
          "execution_count": 111
        }
      ],
      "source": [
        "train_dicts = df[categorical + numerical].to_dict(orient='records')\n",
        "\n",
        "dv = DictVectorizer()\n",
        "X_train = dv.fit_transform(train_dicts)\n",
        "\n",
        "target = 'duration'\n",
        "y_train = df[target].values\n",
        "\n",
        "lr = LinearRegression()\n",
        "lr.fit(X_train, y_train)\n",
        "\n",
        "y_pred = lr.predict(X_train)\n",
        "\n",
        "mean_squared_error(y_train, y_pred, squared=False)"
      ]
    },
    {
      "cell_type": "code",
      "source": [
        "val_dicts = df_val[categorical + numerical].to_dict(orient='records')\n",
        "\n",
        "X_val = dv.transform(val_dicts)\n",
        "y_val = df_val['duration'].values\n",
        "\n",
        "y_pred = lr.predict(X_val)\n",
        "\n",
        "mean_squared_error(y_val, y_pred, squared=False)"
      ],
      "metadata": {
        "id": "EWbLcGkqUite",
        "outputId": "13c6a631-f60a-444e-8d96-a649b1af17d6",
        "colab": {
          "base_uri": "https://localhost:8080/"
        }
      },
      "id": "EWbLcGkqUite",
      "execution_count": null,
      "outputs": [
        {
          "output_type": "execute_result",
          "data": {
            "text/plain": [
              "7.795498607717361"
            ]
          },
          "metadata": {},
          "execution_count": 115
        }
      ]
    },
    {
      "cell_type": "code",
      "source": [
        "X_train.shape"
      ],
      "metadata": {
        "id": "IqOtyVz3KkqM",
        "outputId": "8fa30476-8f93-4dd1-cc42-65b7ada9cbae",
        "colab": {
          "base_uri": "https://localhost:8080/"
        }
      },
      "id": "IqOtyVz3KkqM",
      "execution_count": null,
      "outputs": [
        {
          "output_type": "execute_result",
          "data": {
            "text/plain": [
              "(2421440, 516)"
            ]
          },
          "metadata": {},
          "execution_count": 91
        }
      ]
    },
    {
      "cell_type": "code",
      "execution_count": null,
      "id": "47b0eb9b",
      "metadata": {
        "id": "47b0eb9b"
      },
      "outputs": [],
      "source": []
    }
  ],
  "metadata": {
    "kernelspec": {
      "display_name": "Python 3 (ipykernel)",
      "language": "python",
      "name": "python3"
    },
    "language_info": {
      "codemirror_mode": {
        "name": "ipython",
        "version": 3
      },
      "file_extension": ".py",
      "mimetype": "text/x-python",
      "name": "python",
      "nbconvert_exporter": "python",
      "pygments_lexer": "ipython3",
      "version": "3.9.7"
    },
    "colab": {
      "provenance": []
    }
  },
  "nbformat": 4,
  "nbformat_minor": 5
}